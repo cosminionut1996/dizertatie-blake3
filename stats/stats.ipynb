{
 "metadata": {
  "language_info": {
   "codemirror_mode": {
    "name": "ipython",
    "version": 3
   },
   "file_extension": ".py",
   "mimetype": "text/x-python",
   "name": "python",
   "nbconvert_exporter": "python",
   "pygments_lexer": "ipython3",
   "version": "3.9.1-final"
  },
  "orig_nbformat": 2,
  "kernelspec": {
   "name": "python3",
   "display_name": "Python 3.9.1 64-bit ('jupyter_env')",
   "metadata": {
    "interpreter": {
     "hash": "defa655e72579fdad1e17801c42e6bb79658d17161d1685eb3c0025d2ce2e98a"
    }
   }
  }
 },
 "nbformat": 4,
 "nbformat_minor": 2,
 "cells": [
  {
   "cell_type": "code",
   "execution_count": 13,
   "metadata": {},
   "outputs": [],
   "source": [
    "import pandas as pd\n",
    "from scipy.stats import trim_mean"
   ]
  },
  {
   "cell_type": "code",
   "execution_count": 14,
   "metadata": {},
   "outputs": [],
   "source": [
    "def get_stats(stats_file_name, discard_ratio=0.1):\n",
    "    \n",
    "    # create pandas DataFrame\n",
    "    data = list()\n",
    "    with open(stats_file_name) as fin:\n",
    "        for line in fin:\n",
    "            numbers = list(map(int, line.rstrip(',\\n ').split(', ')))\n",
    "            data.append(numbers)\n",
    "    df = pd.DataFrame(data)\n",
    "\n",
    "    # use df to compute trimmed mean for every line - this is equivalent with computing the mean time of each run\n",
    "    rounds_mean = trim_mean(df, discard_ratio, axis=1)\n",
    "    total_mean = trim_mean(rounds_mean, discard_ratio)\n",
    "    print(rounds_mean)\n",
    "    print(total_mean)\n"
   ]
  },
  {
   "cell_type": "code",
   "execution_count": 15,
   "metadata": {},
   "outputs": [
    {
     "output_type": "stream",
     "name": "stdout",
     "text": [
      "[1129.07272727 1104.70909091]\n1116.8909090909092\n"
     ]
    }
   ],
   "source": [
    "get_stats(\"blake3F_Run\", 0.2)"
   ]
  },
  {
   "cell_type": "code",
   "execution_count": 16,
   "metadata": {},
   "outputs": [
    {
     "output_type": "stream",
     "name": "stdout",
     "text": [
      "[1188.20547945 1176.45205479]\n1182.3287671232877\n"
     ]
    }
   ],
   "source": [
    "get_stats(\"blake3F_Run\", 0.1)\n"
   ]
  },
  {
   "cell_type": "code",
   "execution_count": 17,
   "metadata": {},
   "outputs": [
    {
     "output_type": "stream",
     "name": "stdout",
     "text": [
      "[1013.75      3159.7275641]\n2086.738782051282\n"
     ]
    }
   ],
   "source": [
    "get_stats(\"blake2F_Run\", 0.2)"
   ]
  },
  {
   "cell_type": "code",
   "execution_count": 18,
   "metadata": {},
   "outputs": [
    {
     "output_type": "stream",
     "name": "stdout",
     "text": [
      "[1064.09855769 3323.95432692]\n2194.0264423076924\n"
     ]
    }
   ],
   "source": [
    "get_stats(\"blake2F_Run\", 0.1)"
   ]
  },
  {
   "cell_type": "code",
   "execution_count": null,
   "metadata": {},
   "outputs": [],
   "source": []
  }
 ]
}