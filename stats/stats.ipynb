{
 "metadata": {
  "language_info": {
   "codemirror_mode": {
    "name": "ipython",
    "version": 3
   },
   "file_extension": ".py",
   "mimetype": "text/x-python",
   "name": "python",
   "nbconvert_exporter": "python",
   "pygments_lexer": "ipython3",
   "version": "3.9.1-final"
  },
  "orig_nbformat": 2,
  "kernelspec": {
   "name": "python3",
   "display_name": "Python 3.9.1 64-bit ('jupyter_env')",
   "metadata": {
    "interpreter": {
     "hash": "defa655e72579fdad1e17801c42e6bb79658d17161d1685eb3c0025d2ce2e98a"
    }
   }
  }
 },
 "nbformat": 4,
 "nbformat_minor": 2,
 "cells": [
  {
   "cell_type": "code",
   "execution_count": 19,
   "metadata": {},
   "outputs": [],
   "source": [
    "import pandas as pd\n",
    "from scipy.stats import trim_mean"
   ]
  },
  {
   "cell_type": "code",
   "execution_count": 20,
   "metadata": {},
   "outputs": [],
   "source": [
    "def get_stats(stats_file_name, discard_ratio=0.1):\n",
    "    \n",
    "    # create pandas DataFrame\n",
    "    data = list()\n",
    "    with open(stats_file_name) as fin:\n",
    "        for line in fin:\n",
    "            numbers = list(map(int, line.rstrip(',\\n ').split(', ')))\n",
    "            data.append(numbers)\n",
    "    df = pd.DataFrame(data)\n",
    "\n",
    "    # use df to compute trimmed mean for every line - this is equivalent with computing the mean time of each run\n",
    "    rounds_mean = trim_mean(df, discard_ratio, axis=1)\n",
    "    total_mean = trim_mean(rounds_mean, discard_ratio)\n",
    "    print(rounds_mean)\n",
    "    print(total_mean)\n"
   ]
  },
  {
   "cell_type": "code",
   "execution_count": 21,
   "metadata": {},
   "outputs": [
    {
     "output_type": "stream",
     "name": "stdout",
     "text": [
      "[1107.43636364]\n1107.4363636363637\n"
     ]
    }
   ],
   "source": [
    "get_stats(\"blake3F_Run\", 0.2)"
   ]
  },
  {
   "cell_type": "code",
   "execution_count": 22,
   "metadata": {},
   "outputs": [
    {
     "output_type": "stream",
     "name": "stdout",
     "text": [
      "[1115.15068493]\n1115.150684931507\n"
     ]
    }
   ],
   "source": [
    "get_stats(\"blake3F_Run\", 0.1)\n"
   ]
  },
  {
   "cell_type": "code",
   "execution_count": 23,
   "metadata": {},
   "outputs": [
    {
     "output_type": "stream",
     "name": "stdout",
     "text": [
      "[1.]\n1.0\n"
     ]
    }
   ],
   "source": [
    "get_stats(\"blake2F_Run\", 0.2)"
   ]
  },
  {
   "cell_type": "code",
   "execution_count": 24,
   "metadata": {},
   "outputs": [
    {
     "output_type": "stream",
     "name": "stdout",
     "text": [
      "[0.99598617]\n0.9959861746014048\n"
     ]
    }
   ],
   "source": [
    "get_stats(\"blake2F_Run\", 0.1)"
   ]
  },
  {
   "cell_type": "code",
   "execution_count": 25,
   "metadata": {},
   "outputs": [
    {
     "output_type": "stream",
     "name": "stdout",
     "text": [
      "[2.10909091 2.25454545 2.41818182 2.61818182 2.67272727 2.29090909\n 2.25454545 2.2        2.2        2.76363636 2.27272727 2.23636364\n 2.58181818]\n2.347474747474747\n"
     ]
    }
   ],
   "source": [
    "get_stats(\"./full/blake3F_Run\", 0.2)"
   ]
  },
  {
   "cell_type": "code",
   "execution_count": 27,
   "metadata": {},
   "outputs": [
    {
     "output_type": "stream",
     "name": "stdout",
     "text": [
      "[2.26027397 2.46575342 2.52054795 2.89041096 2.79452055 2.43835616\n 2.38356164 2.38356164 2.36986301 2.89041096 2.4109589  2.35616438\n 2.76712329]\n2.5255292652552925\n"
     ]
    }
   ],
   "source": [
    "get_stats(\"./full/blake3F_Run\", 0.1)\n"
   ]
  },
  {
   "cell_type": "code",
   "execution_count": null,
   "metadata": {},
   "outputs": [],
   "source": []
  }
 ]
}